{
  "nbformat": 4,
  "nbformat_minor": 0,
  "metadata": {
    "colab": {
      "name": "KNN-Wine dataset",
      "provenance": [],
      "include_colab_link": true
    },
    "kernelspec": {
      "name": "python3",
      "display_name": "Python 3"
    }
  },
  "cells": [
    {
      "cell_type": "markdown",
      "metadata": {
        "id": "view-in-github",
        "colab_type": "text"
      },
      "source": [
        "<a href=\"https://colab.research.google.com/github/MayankRawatt/Data-Model-Project/blob/master/KNN_Wine_dataset.ipynb\" target=\"_parent\"><img src=\"https://colab.research.google.com/assets/colab-badge.svg\" alt=\"Open In Colab\"/></a>"
      ]
    },
    {
      "cell_type": "code",
      "metadata": {
        "id": "VJvZa3vabi6K",
        "colab_type": "code",
        "colab": {}
      },
      "source": [
        "import numpy as np\n",
        "import pandas as pd\n",
        "import matplotlib.pyplot as plt\n",
        "from sklearn.datasets import load_wine\n",
        "from sklearn.model_selection import train_test_split\n",
        "\n",
        "%matplotlib inline"
      ],
      "execution_count": null,
      "outputs": []
    },
    {
      "cell_type": "code",
      "metadata": {
        "id": "Iv9G-4UZcNST",
        "colab_type": "code",
        "colab": {}
      },
      "source": [
        "def euclid_distance(train_point,given_point):\n",
        "  distance = np.sum((train_point-given_point)**2)\n",
        "  return np.sqrt(distance)"
      ],
      "execution_count": null,
      "outputs": []
    },
    {
      "cell_type": "code",
      "metadata": {
        "id": "bs0BcFI0cxQi",
        "colab_type": "code",
        "colab": {}
      },
      "source": [
        "def calc_distance_from_all(all_points,given_point,predictions):\n",
        "  all_distances = []\n",
        "  for i,each in enumerate(all_points):\n",
        "    distance= euclid_distance(each,given_point)\n",
        "    all_distances.append((distance,int(predictions[i])))\n",
        "  all_distances.sort(key=lambda tup: tup[0])\n",
        "  return all_distances\n",
        "\n",
        "def get_neighbours(distance,count):\n",
        "  return distances[:count]\n",
        "\n",
        "def predict(all_points,given_point,predictions):\n",
        "  distances = calc_distance_from_all(all_points,given_point,predictions)\n",
        "  neighbours = get_neighbours(distances,4)\n",
        "  op = [row[-1] for row in neighbours]\n",
        "  prediction = max(set(op),key=op.count)\n",
        "  return prediction\n",
        "\n",
        "def accuracy(basex,basey,testx,testy):\n",
        "  correct=0\n",
        "  for i in range(len(testx)):\n",
        "    p=predict(basex,testx[i],basey)\n",
        "    if p==testy[i]:\n",
        "      correct +=1\n",
        "  return f\"Accuracy: {correct*100/len(testy)}%\""
      ],
      "execution_count": null,
      "outputs": []
    },
    {
      "cell_type": "code",
      "metadata": {
        "id": "btUN_utteEXa",
        "colab_type": "code",
        "colab": {}
      },
      "source": [
        "wine=load_wine()\n",
        "print(wine.DESCR)"
      ],
      "execution_count": null,
      "outputs": []
    },
    {
      "cell_type": "code",
      "metadata": {
        "id": "zeqZy1Zjj3hf",
        "colab_type": "code",
        "colab": {}
      },
      "source": [
        "X= pd.DataFrame(wine.data,columns=wine.feature_names)\n",
        "Y=pd.DataFrame(wine.target,columns=['target'])"
      ],
      "execution_count": null,
      "outputs": []
    },
    {
      "cell_type": "code",
      "metadata": {
        "id": "HxMYxRTLkQWX",
        "colab_type": "code",
        "colab": {}
      },
      "source": [
        "X=(X-X.min())/(X.max()-X.min())\n",
        "xtrain,xtest,ytrain,ytest=train_test_split(X,Y,test_size=0.3)\n",
        "wine.feature_names"
      ],
      "execution_count": null,
      "outputs": []
    },
    {
      "cell_type": "code",
      "metadata": {
        "id": "cLlaA-Naknrf",
        "colab_type": "code",
        "colab": {}
      },
      "source": [
        "f1='hue'\n",
        "f2='proline'\n",
        "basex=np.array(xtrain[[f1,f2]])\n",
        "basey=np.array(ytrain)\n",
        "xtest=np.array(xtest[[f1,f2]])\n",
        "ytest=np.array(ytest)"
      ],
      "execution_count": null,
      "outputs": []
    },
    {
      "cell_type": "code",
      "metadata": {
        "id": "qXq0bC-hmXZw",
        "colab_type": "code",
        "colab": {}
      },
      "source": [
        "x=pd.DataFrame(basex)\n",
        "y=basey\n",
        "plt.scatter(x.iloc[:,0],x.iloc[:,1],c=y,s=15)\n",
        "plt.scatter(0.25,0.2,c='red',marker='x',s=100)"
      ],
      "execution_count": null,
      "outputs": []
    },
    {
      "cell_type": "code",
      "metadata": {
        "id": "WXc2cDbMmz4B",
        "colab_type": "code",
        "colab": {}
      },
      "source": [
        "accuracy(basex,basey,xtest,ytest)"
      ],
      "execution_count": null,
      "outputs": []
    },
    {
      "cell_type": "code",
      "metadata": {
        "id": "MTelIUyormNd",
        "colab_type": "code",
        "colab": {}
      },
      "source": [
        ""
      ],
      "execution_count": null,
      "outputs": []
    }
  ]
}